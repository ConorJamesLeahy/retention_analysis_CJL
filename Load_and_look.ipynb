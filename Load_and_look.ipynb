{
 "cells": [
  {
   "cell_type": "code",
   "execution_count": 1,
   "metadata": {},
   "outputs": [
    {
     "name": "stdout",
     "output_type": "stream",
     "text": [
      "               oid provider  total_charges signup_date is_canceled is_active  \\\n",
      "0  273624174263463    apple          10.94  2021-04-20        True     False   \n",
      "1  532534633483904    apple          10.92  2021-04-20        True     False   \n",
      "2  623527156674739    apple           0.00  2021-04-20       False     False   \n",
      "3  441616357320658    apple          90.30  2021-04-20       False      True   \n",
      "4  189644194376891    apple          79.98  2021-04-20       False      True   \n",
      "\n",
      "  is_delinquent conversion_date              cancellation_date  current_mrr  \\\n",
      "0         False      2021-04-20  2021-05-20T12:00:00.000+00:00         0.00   \n",
      "1         False      2021-04-20  2021-06-20T12:00:00.000+00:00         0.00   \n",
      "2         False             NaN                            NaN         0.00   \n",
      "3         False      2021-04-27                            NaN         3.47   \n",
      "4         False      2021-05-04                            NaN         3.33   \n",
      "\n",
      "                         personal_person_geo_country converted  \n",
      "0                                             France      True  \n",
      "1  United Kingdom of Great Britain and Northern I...      True  \n",
      "2                                            Germany     False  \n",
      "3                                        Switzerland      True  \n",
      "4                           United States of America      True  \n",
      "\n",
      "DataFrame Info:\n",
      "<class 'pandas.core.frame.DataFrame'>\n",
      "RangeIndex: 134612 entries, 0 to 134611\n",
      "Data columns (total 12 columns):\n",
      " #   Column                       Non-Null Count   Dtype  \n",
      "---  ------                       --------------   -----  \n",
      " 0   oid                          134610 non-null  object \n",
      " 1   provider                     134610 non-null  object \n",
      " 2   total_charges                134610 non-null  float64\n",
      " 3   signup_date                  134610 non-null  object \n",
      " 4   is_canceled                  134610 non-null  object \n",
      " 5   is_active                    134610 non-null  object \n",
      " 6   is_delinquent                134610 non-null  object \n",
      " 7   conversion_date              80759 non-null   object \n",
      " 8   cancellation_date            33518 non-null   object \n",
      " 9   current_mrr                  134610 non-null  float64\n",
      " 10  personal_person_geo_country  105503 non-null  object \n",
      " 11  converted                    134610 non-null  object \n",
      "dtypes: float64(2), object(10)\n",
      "memory usage: 12.3+ MB\n",
      "None\n"
     ]
    },
    {
     "name": "stderr",
     "output_type": "stream",
     "text": [
      "/var/folders/7k/wrk7c3wx3pl7px430tg547rr0000gn/T/ipykernel_27306/539453584.py:4: DtypeWarning: Columns (4,5,6,11) have mixed types. Specify dtype option on import or set low_memory=False.\n",
      "  df = pd.read_csv('dummy_customer_file.csv')\n"
     ]
    }
   ],
   "source": [
    "import pandas as pd\n",
    "\n",
    "# Read the CSV file\n",
    "df = pd.read_csv('dummy_customer_file.csv')\n",
    "\n",
    "# Display the first few rows to verify the data loaded correctly\n",
    "print(df.head())\n",
    "\n",
    "# Basic information about the DataFrame\n",
    "print(\"\\nDataFrame Info:\")\n",
    "print(df.info())"
   ]
  },
  {
   "cell_type": "code",
   "execution_count": null,
   "metadata": {},
   "outputs": [],
   "source": []
  },
  {
   "cell_type": "code",
   "execution_count": null,
   "metadata": {},
   "outputs": [],
   "source": []
  },
  {
   "cell_type": "code",
   "execution_count": null,
   "metadata": {},
   "outputs": [],
   "source": []
  }
 ],
 "metadata": {
  "kernelspec": {
   "display_name": "Python 3",
   "language": "python",
   "name": "python3"
  },
  "language_info": {
   "codemirror_mode": {
    "name": "ipython",
    "version": 3
   },
   "file_extension": ".py",
   "mimetype": "text/x-python",
   "name": "python",
   "nbconvert_exporter": "python",
   "pygments_lexer": "ipython3",
   "version": "3.11.0"
  }
 },
 "nbformat": 4,
 "nbformat_minor": 2
}
