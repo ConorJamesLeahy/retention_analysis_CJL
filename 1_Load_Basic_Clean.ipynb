{
 "cells": [
  {
   "cell_type": "markdown",
   "metadata": {},
   "source": [
    "# Customer Retention Analysis "
   ]
  },
  {
   "cell_type": "markdown",
   "metadata": {},
   "source": [
    "### Read in the data and take a peek"
   ]
  },
  {
   "cell_type": "code",
   "execution_count": 1,
   "metadata": {},
   "outputs": [
    {
     "name": "stdout",
     "output_type": "stream",
     "text": [
      "               oid provider  total_charges signup_date is_canceled is_active  \\\n",
      "0  273624174263463    apple          10.94  2021-04-20        True     False   \n",
      "1  532534633483904    apple          10.92  2021-04-20        True     False   \n",
      "2  623527156674739    apple           0.00  2021-04-20       False     False   \n",
      "3  441616357320658    apple          90.30  2021-04-20       False      True   \n",
      "4  189644194376891    apple          79.98  2021-04-20       False      True   \n",
      "\n",
      "  is_delinquent conversion_date              cancellation_date  current_mrr  \\\n",
      "0         False      2021-04-20  2021-05-20T12:00:00.000+00:00         0.00   \n",
      "1         False      2021-04-20  2021-06-20T12:00:00.000+00:00         0.00   \n",
      "2         False             NaN                            NaN         0.00   \n",
      "3         False      2021-04-27                            NaN         3.47   \n",
      "4         False      2021-05-04                            NaN         3.33   \n",
      "\n",
      "                         personal_person_geo_country converted  \n",
      "0                                             France      True  \n",
      "1  United Kingdom of Great Britain and Northern I...      True  \n",
      "2                                            Germany     False  \n",
      "3                                        Switzerland      True  \n",
      "4                           United States of America      True  \n"
     ]
    },
    {
     "name": "stderr",
     "output_type": "stream",
     "text": [
      "/var/folders/7k/wrk7c3wx3pl7px430tg547rr0000gn/T/ipykernel_15470/3664610906.py:4: DtypeWarning: Columns (4,5,6,11) have mixed types. Specify dtype option on import or set low_memory=False.\n",
      "  df = pd.read_csv('dummy_customer_file.csv')\n"
     ]
    }
   ],
   "source": [
    "import pandas as pd\n",
    "\n",
    "# Read the CSV file\n",
    "df = pd.read_csv('dummy_customer_file.csv')\n",
    "\n",
    "# Display the first few rows to verify the data loaded correctly\n",
    "print(df.head())\n",
    "\n"
   ]
  },
  {
   "cell_type": "code",
   "execution_count": 2,
   "metadata": {},
   "outputs": [
    {
     "name": "stdout",
     "output_type": "stream",
     "text": [
      "\n",
      "DataFrame Info:\n",
      "<class 'pandas.core.frame.DataFrame'>\n",
      "RangeIndex: 134612 entries, 0 to 134611\n",
      "Data columns (total 12 columns):\n",
      " #   Column                       Non-Null Count   Dtype  \n",
      "---  ------                       --------------   -----  \n",
      " 0   oid                          134610 non-null  object \n",
      " 1   provider                     134610 non-null  object \n",
      " 2   total_charges                134610 non-null  float64\n",
      " 3   signup_date                  134610 non-null  object \n",
      " 4   is_canceled                  134610 non-null  object \n",
      " 5   is_active                    134610 non-null  object \n",
      " 6   is_delinquent                134610 non-null  object \n",
      " 7   conversion_date              80759 non-null   object \n",
      " 8   cancellation_date            33518 non-null   object \n",
      " 9   current_mrr                  134610 non-null  float64\n",
      " 10  personal_person_geo_country  105503 non-null  object \n",
      " 11  converted                    134610 non-null  object \n",
      "dtypes: float64(2), object(10)\n",
      "memory usage: 12.3+ MB\n",
      "None\n"
     ]
    }
   ],
   "source": [
    "# Basic information about the DataFrame\n",
    "print(\"\\nDataFrame Info:\")\n",
    "print(df.info())"
   ]
  },
  {
   "cell_type": "markdown",
   "metadata": {},
   "source": [
    "### Look and clean up NaN values\n",
    "- Clean up only the rows where all columns are null"
   ]
  },
  {
   "cell_type": "code",
   "execution_count": 3,
   "metadata": {},
   "outputs": [
    {
     "name": "stdout",
     "output_type": "stream",
     "text": [
      "\n",
      "Missing values per column:\n",
      "oid                                 2\n",
      "provider                            2\n",
      "total_charges                       2\n",
      "signup_date                         2\n",
      "is_canceled                         2\n",
      "is_active                           2\n",
      "is_delinquent                       2\n",
      "conversion_date                 53853\n",
      "cancellation_date              101094\n",
      "current_mrr                         2\n",
      "personal_person_geo_country     29109\n",
      "converted                           2\n",
      "dtype: int64\n"
     ]
    }
   ],
   "source": [
    "# Check for any remaining missing values\n",
    "print(\"\\nMissing values per column:\")\n",
    "print(df.isnull().sum())"
   ]
  },
  {
   "cell_type": "code",
   "execution_count": 4,
   "metadata": {},
   "outputs": [
    {
     "name": "stdout",
     "output_type": "stream",
     "text": [
      "\n",
      "Rows with missing values:\n",
      "        oid provider  total_charges signup_date is_canceled is_active  \\\n",
      "134610  NaN      NaN            NaN         NaN         NaN       NaN   \n",
      "134611  NaN      NaN            NaN         NaN         NaN       NaN   \n",
      "\n",
      "       is_delinquent conversion_date cancellation_date  current_mrr  \\\n",
      "134610           NaN             NaN               NaN          NaN   \n",
      "134611           NaN             NaN               NaN          NaN   \n",
      "\n",
      "       personal_person_geo_country converted  \n",
      "134610                         NaN       NaN  \n",
      "134611                         NaN       NaN  \n"
     ]
    }
   ],
   "source": [
    "#Look at rows where oid is invalid, entire row shows up invalid\n",
    "#null_rows = df[df.isnull().any(axis=1)]\n",
    "null_rows = df[df['oid'].isnull()]\n",
    "print(\"\\nRows with missing values:\")\n",
    "print(null_rows)"
   ]
  },
  {
   "cell_type": "code",
   "execution_count": 5,
   "metadata": {},
   "outputs": [
    {
     "name": "stdout",
     "output_type": "stream",
     "text": [
      "Original DataFrame shape: (134612, 12)\n",
      "New DataFrame shape: (134610, 12)\n"
     ]
    }
   ],
   "source": [
    "#Remove the 2 rows that are completely invalid, bad data sourcing \n",
    "# Drop rows where 'oid' is null, keep all columns\n",
    "df2 = df.copy()\n",
    "\n",
    "df2 = df2.dropna(subset=['oid'])\n",
    "\n",
    "# Optional: verify the change\n",
    "print(f\"Original DataFrame shape: {df.shape}\")\n",
    "print(f\"New DataFrame shape: {df2.shape}\")"
   ]
  },
  {
   "cell_type": "markdown",
   "metadata": {},
   "source": [
    "### Now lets make all the date time columns converted to make easier\n",
    "- Also removed the uniform timestamp to simplify "
   ]
  },
  {
   "cell_type": "code",
   "execution_count": 6,
   "metadata": {},
   "outputs": [],
   "source": [
    "# Convert date columns to proper datetime format, ditch the timestamp on cancellation date\n",
    "df2['signup_date'] = pd.to_datetime(df2['signup_date'])\n",
    "df2['conversion_date'] = pd.to_datetime(df2['conversion_date'])\n",
    "df2['cancellation_date'] = pd.to_datetime(df2['cancellation_date'])\n",
    "df2['cancellation_date'] = df2['cancellation_date'].dt.date\n",
    "df2['cancellation_date'] = pd.to_datetime(df2['cancellation_date'])\n"
   ]
  },
  {
   "cell_type": "markdown",
   "metadata": {},
   "source": [
    "### Lets standardize the cuountries in the personal_person_geo_country column\n",
    "\n",
    "- Just going to make all of them equal to the more popular one\n",
    "- Had AI scan the csv of the columna and return mapping logic\n"
   ]
  },
  {
   "cell_type": "code",
   "execution_count": 7,
   "metadata": {},
   "outputs": [
    {
     "name": "stdout",
     "output_type": "stream",
     "text": [
      "personal_person_geo_country\n",
      "United States of America                                39021\n",
      "United Kingdom of Great Britain and Northern Ireland     8541\n",
      "Germany                                                  8362\n",
      "France                                                   4301\n",
      "Canada                                                   4018\n",
      "Italy                                                    3126\n",
      "Australia                                                3105\n",
      "Russian Federation                                       3048\n",
      "Japan                                                    2166\n",
      "Switzerland                                              1653\n",
      "Netherlands                                              1607\n",
      "Spain                                                    1531\n",
      "China                                                    1482\n",
      "Sweden                                                   1259\n",
      "United States                                            1206\n",
      "Brazil                                                   1130\n",
      "Poland                                                   1080\n",
      "Norway                                                    916\n",
      "Mexico                                                    911\n",
      "Austria                                                   900\n",
      "India                                                     730\n",
      "Denmark                                                   716\n",
      "Belgium                                                   701\n",
      "Korea (Republic of)                                       686\n",
      "Czechia                                                   625\n",
      "New Zealand                                               522\n",
      "Viet Nam                                                  510\n",
      "Turkey                                                    498\n",
      "Finland                                                   484\n",
      "Indonesia                                                 480\n",
      "Israel                                                    468\n",
      "Chile                                                     447\n",
      "Türkiye                                                   446\n",
      "Taiwan, Province of China                                 441\n",
      "South Africa                                              403\n",
      "Thailand                                                  386\n",
      "Romania                                                   377\n",
      "Colombia                                                  351\n",
      "Hungary                                                   339\n",
      "Hong Kong                                                 337\n",
      "Ireland                                                   305\n",
      "Ukraine                                                   304\n",
      "Malaysia                                                  302\n",
      "Greece                                                    286\n",
      "Portugal                                                  278\n",
      "Slovakia                                                  257\n",
      "United Kingdom                                            256\n",
      "United Arab Emirates                                      247\n",
      "Singapore                                                 239\n",
      "Philippines                                               233\n",
      "Argentina                                                 227\n",
      "Kazakhstan                                                223\n",
      "Saudi Arabia                                              181\n",
      "Croatia                                                   146\n",
      "Peru                                                      146\n",
      "Bulgaria                                                  123\n",
      "Egypt                                                     119\n",
      "Lithuania                                                 119\n",
      "Latvia                                                    117\n",
      "Slovenia                                                  112\n",
      "Ecuador                                                   101\n",
      "Belarus                                                    93\n",
      "Estonia                                                    91\n",
      "Iceland                                                    88\n",
      "Luxembourg                                                 79\n",
      "Serbia                                                     74\n",
      "Pakistan                                                   65\n",
      "Guatemala                                                  63\n",
      "Costa Rica                                                 62\n",
      "Dominican Republic                                         61\n",
      "Uzbekistan                                                 56\n",
      "Georgia                                                    56\n",
      "Armenia                                                    50\n",
      "Nigeria                                                    46\n",
      "Kuwait                                                     46\n",
      "Malta                                                      44\n",
      "Cyprus                                                     41\n",
      "Uruguay                                                    40\n",
      "Russia                                                     40\n",
      "Bolivia (Plurinational State of)                           40\n",
      "Albania                                                    34\n",
      "Azerbaijan                                                 34\n",
      "Qatar                                                      33\n",
      "Cambodia                                                   33\n",
      "Moldova (Republic of)                                      32\n",
      "Panama                                                     30\n",
      "Oman                                                       29\n",
      "El Salvador                                                27\n",
      "Kenya                                                      25\n",
      "Jordan                                                     24\n",
      "Lebanon                                                    23\n",
      "Sri Lanka                                                  23\n",
      "Morocco                                                    20\n",
      "Mongolia                                                   19\n",
      "Kyrgyzstan                                                 18\n",
      "Honduras                                                   18\n",
      "Ghana                                                      17\n",
      "Paraguay                                                   17\n",
      "Bahrain                                                    15\n",
      "Vietnam                                                    14\n",
      "Macao                                                      13\n",
      "Venezuela                                                  13\n",
      "North Macedonia                                            13\n",
      "Tanzania, United Republic of                               11\n",
      "Maldives                                                    9\n",
      "Trinidad and Tobago                                         8\n",
      "Mauritius                                                   8\n",
      "Bosnia and Herzegovina                                      7\n",
      "Taiwan                                                      7\n",
      "Iran                                                        6\n",
      "Algeria                                                     6\n",
      "Tajikistan                                                  6\n",
      "Iraq                                                        6\n",
      "Jamaica                                                     6\n",
      "Puerto Rico                                                 6\n",
      "Venezuela (Bolivarian Republic of)                          5\n",
      "Namibia                                                     5\n",
      "Zimbabwe                                                    5\n",
      "Nepal                                                       5\n",
      "Benin                                                       5\n",
      "Congo (Democratic Republic of the)                          5\n",
      "Montenegro                                                  5\n",
      "Brunei Darussalam                                           5\n",
      "Papua New Guinea                                            4\n",
      "Bangladesh                                                  4\n",
      "Nicaragua                                                   4\n",
      "Senegal                                                     4\n",
      "Mozambique                                                  4\n",
      "Macedonia (FYROM)                                           3\n",
      "South Korea                                                 3\n",
      "Zambia                                                      3\n",
      "Syria                                                       3\n",
      "Barbados                                                    3\n",
      "Sierra Leone                                                2\n",
      "Burkina Faso                                                2\n",
      "The Bahamas                                                 2\n",
      "Myanmar                                                     2\n",
      "Lao People's Democratic Republic                            2\n",
      "Fiji                                                        2\n",
      "Madagascar                                                  2\n",
      "Bhutan                                                      2\n",
      "Tunisia                                                     2\n",
      "Uganda                                                      2\n",
      "Bolivia                                                     2\n",
      "Cayman Islands                                              2\n",
      "Rwanda                                                      2\n",
      "Côte d'Ivoire                                               2\n",
      "Virgin Islands (U.S.)                                       1\n",
      "Mali                                                        1\n",
      "Grenada                                                     1\n",
      "Bahamas                                                     1\n",
      "Saint Kitts and Nevis                                       1\n",
      "Malawi                                                      1\n",
      "Botswana                                                    1\n",
      "Monaco                                                      1\n",
      "Libya                                                       1\n",
      "Somalia                                                     1\n",
      "Bermuda                                                     1\n",
      "Martinique                                                  1\n",
      "Haiti                                                       1\n",
      "Niger                                                       1\n",
      "Aruba                                                       1\n",
      "Samoa                                                       1\n",
      "Antarctica                                                  1\n",
      "Eswatini                                                    1\n",
      "Réunion                                                     1\n",
      "Cabo Verde                                                  1\n",
      "Saint Lucia                                                 1\n",
      "Guernsey                                                    1\n",
      "Anguilla                                                    1\n",
      "Seychelles                                                  1\n",
      "Name: count, dtype: int64\n",
      "171\n"
     ]
    }
   ],
   "source": [
    "# Set pandas display options to show all rows\n",
    "pd.set_option('display.max_rows', None)  # Show all rows\n",
    "pd.set_option('display.max_columns', None)  # Show all columns\n",
    "pd.set_option('display.width', None)  # Don't wrap long strings\n",
    "pd.set_option('display.max_colwidth', None)  # Show full content of each column\n",
    "\n",
    "# Now print your value counts\n",
    "print(df2['personal_person_geo_country'].value_counts())\n",
    "print(df2['personal_person_geo_country'].nunique())\n",
    "\n",
    "# Optional: Reset to defaults after viewing\n",
    "pd.reset_option('display.max_rows')"
   ]
  },
  {
   "cell_type": "code",
   "execution_count": 8,
   "metadata": {},
   "outputs": [
    {
     "data": {
      "text/plain": [
       "160"
      ]
     },
     "execution_count": 8,
     "metadata": {},
     "output_type": "execute_result"
    }
   ],
   "source": [
    "\n",
    "\n",
    "# Create a mapping of non-standard country names to their standardized versions\n",
    "# Using the more popular version of each country name\n",
    "country_mapping = {\n",
    "    'United States': 'United States of America',\n",
    "    'United Kingdom': 'United Kingdom of Great Britain and Northern Ireland',\n",
    "    'Russia': 'Russian Federation',\n",
    "    'Turkey': 'Türkiye',  # Note: Here 'Turkey' is more popular, but 'Türkiye' is the official name now\n",
    "    'Vietnam': 'Viet Nam',\n",
    "    'Taiwan': 'Taiwan, Province of China',\n",
    "    'Bolivia': 'Bolivia (Plurinational State of)',\n",
    "    'Venezuela': 'Venezuela (Bolivarian Republic of)',\n",
    "    'Macedonia (FYROM)': 'North Macedonia',\n",
    "    'Bahamas': 'The Bahamas',\n",
    "    'South Korea': 'Korea (Republic of)'\n",
    "}\n",
    "\n",
    "# Apply the mapping to standardize country names\n",
    "df2['personal_person_geo_country'] = df2['personal_person_geo_country'].replace(country_mapping)\n",
    "df2['personal_person_geo_country'].nunique()\n",
    "\n"
   ]
  },
  {
   "cell_type": "code",
   "execution_count": 9,
   "metadata": {},
   "outputs": [
    {
     "data": {
      "text/plain": [
       "134602"
      ]
     },
     "execution_count": 9,
     "metadata": {},
     "output_type": "execute_result"
    }
   ],
   "source": [
    "df2['oid'].nunique()"
   ]
  },
  {
   "cell_type": "code",
   "execution_count": 10,
   "metadata": {},
   "outputs": [
    {
     "name": "stdout",
     "output_type": "stream",
     "text": [
      "oid                            14\n",
      "provider                       14\n",
      "total_charges                  14\n",
      "signup_date                    14\n",
      "is_canceled                    14\n",
      "is_active                      14\n",
      "is_delinquent                  14\n",
      "conversion_date                12\n",
      "cancellation_date               3\n",
      "current_mrr                    14\n",
      "personal_person_geo_country    14\n",
      "converted                      14\n",
      "dtype: int64\n",
      "\n",
      "Rows with duplicate 'oid' values:\n",
      "             oid provider  total_charges signup_date is_canceled is_active  \\\n",
      "59545   1.68E+15    apple          71.91  2022-05-04       False      True   \n",
      "59645  1.736E+15    apple           0.00  2022-05-04       False     False   \n",
      "59670  1.736E+15    apple           9.85  2022-05-04        True     False   \n",
      "59747   1.68E+15    apple           0.74  2022-05-05       False      True   \n",
      "59783   1.68E+15    apple          59.99  2022-05-05       False      True   \n",
      "61994  1.743E+15    apple          55.93  2022-05-17       False      True   \n",
      "62144  1.743E+15    apple           7.99  2022-05-18        True     False   \n",
      "65207  1.645E+15    apple          60.32  2022-06-01       False      True   \n",
      "65223  1.645E+15    apple           0.00  2022-06-01       False     False   \n",
      "69649  1.484E+15    apple           7.99  2022-06-23        True     False   \n",
      "69742  1.484E+15    apple          55.93  2022-06-23       False      True   \n",
      "69774  1.484E+15    apple          59.99  2022-06-23       False      True   \n",
      "71059  1.561E+15    apple          62.56  2022-06-29       False      True   \n",
      "71298  1.561E+15    apple          59.99  2022-06-30       False      True   \n",
      "\n",
      "      is_delinquent conversion_date cancellation_date  current_mrr  \\\n",
      "59545         False      2022-05-04               NaT         7.99   \n",
      "59645         False             NaT               NaT         0.00   \n",
      "59670         False      2022-05-04        2022-06-04         0.00   \n",
      "59747         False      2022-05-12               NaT         5.59   \n",
      "59783         False      2022-05-12               NaT         5.00   \n",
      "61994         False      2022-05-17               NaT         7.99   \n",
      "62144         False      2022-05-18        2022-06-18         0.00   \n",
      "65207         False      2022-06-08               NaT         5.03   \n",
      "65223         False             NaT               NaT         0.00   \n",
      "69649         False      2022-06-23        2022-07-23         0.00   \n",
      "69742         False      2022-06-23               NaT         7.99   \n",
      "69774         False      2022-06-30               NaT         5.00   \n",
      "71059         False      2022-07-06               NaT         5.21   \n",
      "71298         False      2022-07-07               NaT         5.00   \n",
      "\n",
      "      personal_person_geo_country converted  \n",
      "59545    United States of America      True  \n",
      "59645                       Italy     False  \n",
      "59670          Russian Federation      True  \n",
      "59747                     Czechia      True  \n",
      "59783    United States of America      True  \n",
      "61994    United States of America      True  \n",
      "62144                    Zimbabwe      True  \n",
      "65207                      Canada      True  \n",
      "65223    United States of America     False  \n",
      "69649    United States of America      True  \n",
      "69742    United States of America      True  \n",
      "69774    United States of America      True  \n",
      "71059                     Germany      True  \n",
      "71298    United States of America      True  \n",
      "             oid provider  total_charges signup_date is_canceled is_active  \\\n",
      "69649  1.484E+15    apple           7.99  2022-06-23        True     False   \n",
      "69742  1.484E+15    apple          55.93  2022-06-23       False      True   \n",
      "69774  1.484E+15    apple          59.99  2022-06-23       False      True   \n",
      "71059  1.561E+15    apple          62.56  2022-06-29       False      True   \n",
      "71298  1.561E+15    apple          59.99  2022-06-30       False      True   \n",
      "65207  1.645E+15    apple          60.32  2022-06-01       False      True   \n",
      "65223  1.645E+15    apple           0.00  2022-06-01       False     False   \n",
      "59545   1.68E+15    apple          71.91  2022-05-04       False      True   \n",
      "59747   1.68E+15    apple           0.74  2022-05-05       False      True   \n",
      "59783   1.68E+15    apple          59.99  2022-05-05       False      True   \n",
      "59645  1.736E+15    apple           0.00  2022-05-04       False     False   \n",
      "59670  1.736E+15    apple           9.85  2022-05-04        True     False   \n",
      "61994  1.743E+15    apple          55.93  2022-05-17       False      True   \n",
      "62144  1.743E+15    apple           7.99  2022-05-18        True     False   \n",
      "\n",
      "      is_delinquent conversion_date cancellation_date  current_mrr  \\\n",
      "69649         False      2022-06-23        2022-07-23         0.00   \n",
      "69742         False      2022-06-23               NaT         7.99   \n",
      "69774         False      2022-06-30               NaT         5.00   \n",
      "71059         False      2022-07-06               NaT         5.21   \n",
      "71298         False      2022-07-07               NaT         5.00   \n",
      "65207         False      2022-06-08               NaT         5.03   \n",
      "65223         False             NaT               NaT         0.00   \n",
      "59545         False      2022-05-04               NaT         7.99   \n",
      "59747         False      2022-05-12               NaT         5.59   \n",
      "59783         False      2022-05-12               NaT         5.00   \n",
      "59645         False             NaT               NaT         0.00   \n",
      "59670         False      2022-05-04        2022-06-04         0.00   \n",
      "61994         False      2022-05-17               NaT         7.99   \n",
      "62144         False      2022-05-18        2022-06-18         0.00   \n",
      "\n",
      "      personal_person_geo_country converted  \n",
      "69649    United States of America      True  \n",
      "69742    United States of America      True  \n",
      "69774    United States of America      True  \n",
      "71059                     Germany      True  \n",
      "71298    United States of America      True  \n",
      "65207                      Canada      True  \n",
      "65223    United States of America     False  \n",
      "59545    United States of America      True  \n",
      "59747                     Czechia      True  \n",
      "59783    United States of America      True  \n",
      "59645                       Italy     False  \n",
      "59670          Russian Federation      True  \n",
      "61994    United States of America      True  \n",
      "62144                    Zimbabwe      True  \n"
     ]
    }
   ],
   "source": [
    "# Find all rows where 'oid' appears more than once\n",
    "duplicate_rows = df2[df2['oid'].duplicated(keep=False)]\n",
    "\n",
    "# Display these duplicate rows\n",
    "print(duplicate_rows.count())\n",
    "print(\"\\nRows with duplicate 'oid' values:\")\n",
    "print(duplicate_rows)\n",
    "\n",
    "\n",
    "# Alternatively, to sort them by 'oid' for easier viewing:\n",
    "print(duplicate_rows.sort_values('oid'))"
   ]
  },
  {
   "cell_type": "markdown",
   "metadata": {},
   "source": [
    "### This seems like good general cleaning, can come back and add to this file if we find any other data quality concerns\n",
    "\n",
    "- If any of the above code was to be added to we should document change to understand how the report tables changed over time"
   ]
  },
  {
   "cell_type": "code",
   "execution_count": 11,
   "metadata": {},
   "outputs": [
    {
     "name": "stdout",
     "output_type": "stream",
     "text": [
      "Data successfully written to table 'subscription_data_20230116' in Subscriptions.db\n"
     ]
    }
   ],
   "source": [
    "import pandas as pd\n",
    "import sqlite3\n",
    "from datetime import datetime\n",
    "import os\n",
    "\n",
    "# Assuming df2 is your DataFrame with the processed country data\n",
    "# First, get the latest sign up date to use in the table name\n",
    "latest_signup_date = df2['signup_date'].max()  # Adjust column name if needed\n",
    "formatted_date = latest_signup_date.strftime('%Y%m%d')  # Format as YYYYMMDD\n",
    "\n",
    "# Define the table name with the date\n",
    "table_name = f\"subscription_data_{formatted_date}\"\n",
    "\n",
    "# Path to your SQLite database\n",
    "db_path = \"Subscriptions.db\"  # Adjust to your actual database path\n",
    "\n",
    "# Check if database exists\n",
    "db_exists = os.path.exists(db_path)\n",
    "\n",
    "# Connect to the SQLite database (creates it if it doesn't exist)\n",
    "conn = sqlite3.connect(db_path)\n",
    "\n",
    "# Check if the table exists and drop it if it does\n",
    "cursor = conn.cursor()\n",
    "cursor.execute(f\"DROP TABLE IF EXISTS {table_name}\")\n",
    "conn.commit()\n",
    "\n",
    "# Write the DataFrame to the SQLite table\n",
    "df2.to_sql(name=table_name, con=conn, if_exists='replace', index=False)\n",
    "\n",
    "# Close the connection\n",
    "conn.close()\n",
    "\n",
    "print(f\"Data successfully written to table '{table_name}' in {db_path}\")"
   ]
  },
  {
   "cell_type": "markdown",
   "metadata": {},
   "source": [
    "## Now just check to make sure table was uploaded correctly "
   ]
  },
  {
   "cell_type": "code",
   "execution_count": 12,
   "metadata": {},
   "outputs": [
    {
     "name": "stdout",
     "output_type": "stream",
     "text": [
      "All tables in the database:\n",
      "subscription_data_20230116\n",
      "\n",
      "First 5 rows from table 'subscription_data_20230116':\n",
      "Columns: ['oid', 'provider', 'total_charges', 'signup_date', 'is_canceled', 'is_active', 'is_delinquent', 'conversion_date', 'cancellation_date', 'current_mrr', 'personal_person_geo_country', 'converted']\n",
      "('273624174263463', 'apple', 10.94, '2021-04-20 00:00:00', 1, 0, 0, '2021-04-20 00:00:00', '2021-05-20 00:00:00', 0.0, 'France', 1)\n",
      "('532534633483904', 'apple', 10.92, '2021-04-20 00:00:00', 1, 0, 0, '2021-04-20 00:00:00', '2021-06-20 00:00:00', 0.0, 'United Kingdom of Great Britain and Northern Ireland', 1)\n",
      "('623527156674739', 'apple', 0.0, '2021-04-20 00:00:00', 0, 0, 0, None, None, 0.0, 'Germany', 0)\n",
      "('441616357320658', 'apple', 90.3, '2021-04-20 00:00:00', 0, 1, 0, '2021-04-27 00:00:00', None, 3.47, 'Switzerland', 1)\n",
      "('189644194376891', 'apple', 79.98, '2021-04-20 00:00:00', 0, 1, 0, '2021-05-04 00:00:00', None, 3.33, 'United States of America', 1)\n",
      "\n",
      "Total rows in 'subscription_data_20230116': 134610\n",
      "Total columns in 'subscription_data_20230116': 12\n"
     ]
    }
   ],
   "source": [
    "import sqlite3\n",
    "\n",
    "# Path to your SQLite database\n",
    "db_path = \"Subscriptions.db\"  # Adjust to your actual database path\n",
    "\n",
    "# Connect to the database\n",
    "conn = sqlite3.connect(db_path)\n",
    "cursor = conn.cursor()\n",
    "\n",
    "# 1. List all tables in the database\n",
    "print(\"All tables in the database:\")\n",
    "cursor.execute(\"SELECT name FROM sqlite_master WHERE type='table';\")\n",
    "tables = cursor.fetchall()\n",
    "for table in tables:\n",
    "    print(table[0])\n",
    "\n",
    "# 2. Get the head of your newly created table\n",
    "# (assuming the table name pattern is subscription_data_YYYYMMDD)\n",
    "# Find the subscription_data table\n",
    "subscription_tables = [table[0] for table in tables if table[0].startswith('subscription_data_')]\n",
    "\n",
    "if subscription_tables:\n",
    "    # Get the most recent table (should be the one you just created)\n",
    "    latest_table = sorted(subscription_tables)[-1]\n",
    "    \n",
    "    print(f\"\\nFirst 5 rows from table '{latest_table}':\")\n",
    "    cursor.execute(f\"SELECT * FROM {latest_table} LIMIT 5;\")\n",
    "    \n",
    "    # Get column names\n",
    "    column_names = [description[0] for description in cursor.description]\n",
    "    print(\"Columns:\", column_names)\n",
    "    \n",
    "    # Print rows\n",
    "    rows = cursor.fetchall()\n",
    "    for row in rows:\n",
    "        print(row)\n",
    "    \n",
    "    # Also show a count of total rows\n",
    "    cursor.execute(f\"SELECT COUNT(*) FROM {latest_table};\")\n",
    "    row_count = cursor.fetchone()[0]\n",
    "    print(f\"\\nTotal rows in '{latest_table}': {row_count}\")\n",
    "    \n",
    "     # Add column count\n",
    "    column_count = len(column_names)\n",
    "    print(f\"Total columns in '{latest_table}': {column_count}\")\n",
    "else:\n",
    "    print(\"No subscription_data tables found.\")\n",
    "\n",
    "# Close the connection\n",
    "conn.close()"
   ]
  },
  {
   "cell_type": "code",
   "execution_count": null,
   "metadata": {},
   "outputs": [],
   "source": []
  },
  {
   "cell_type": "code",
   "execution_count": null,
   "metadata": {},
   "outputs": [],
   "source": []
  }
 ],
 "metadata": {
  "kernelspec": {
   "display_name": "Python 3",
   "language": "python",
   "name": "python3"
  },
  "language_info": {
   "codemirror_mode": {
    "name": "ipython",
    "version": 3
   },
   "file_extension": ".py",
   "mimetype": "text/x-python",
   "name": "python",
   "nbconvert_exporter": "python",
   "pygments_lexer": "ipython3",
   "version": "3.11.0"
  }
 },
 "nbformat": 4,
 "nbformat_minor": 2
}
